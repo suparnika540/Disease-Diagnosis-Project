{
 "cells": [
  {
   "cell_type": "markdown",
   "metadata": {},
   "source": [
    "# Heart Disease Prediction"
   ]
  },
  {
   "cell_type": "markdown",
   "metadata": {},
   "source": [
    "### Importing necessary libraries"
   ]
  },
  {
   "cell_type": "code",
   "execution_count": 1,
   "metadata": {},
   "outputs": [],
   "source": [
    "import numpy as np# we are importing pandas and numpy to read data,plt for plotting.\n",
    "import pandas as pd\n",
    "import matplotlib.pyplot as plt\n",
    "from matplotlib import rcParams# for styling plots\n",
    "from matplotlib.cm import rainbow# for applying colors\n",
    "%matplotlib inline\n",
    "import warnings\n",
    "warnings.filterwarnings('ignore')"
   ]
  },
  {
   "cell_type": "code",
   "execution_count": 2,
   "metadata": {},
   "outputs": [],
   "source": [
    "from sklearn.model_selection import train_test_split\n",
    "#importing from sklearn for implementing machine learning models and processing the data like splitting test and training data.\n",
    "from sklearn.preprocessing import StandardScaler"
   ]
  },
  {
   "cell_type": "markdown",
   "metadata": {},
   "source": [
    "### Importing all the Machine Learning algorithms.\n",
    "\n",
    "1. K Neighbors Classifier \n",
    "\n",
    "2. Support Vector Classifier\n",
    "\n",
    "3. Decision Tree Classifier\n",
    "\n",
    "4. Logical Regression"
   ]
  },
  {
   "cell_type": "code",
   "execution_count": 3,
   "metadata": {},
   "outputs": [],
   "source": [
    "from sklearn.neighbors import KNeighborsClassifier\n",
    "from sklearn.svm import SVC\n",
    "from sklearn.tree import DecisionTreeClassifier"
   ]
  },
  {
   "cell_type": "markdown",
   "metadata": {},
   "source": [
    "## Read Dataset"
   ]
  },
  {
   "cell_type": "code",
   "execution_count": 4,
   "metadata": {},
   "outputs": [
    {
     "data": {
      "text/plain": [
       "pandas.core.frame.DataFrame"
      ]
     },
     "execution_count": 4,
     "metadata": {},
     "output_type": "execute_result"
    }
   ],
   "source": [
    "df=pd.read_csv(r\"C:\\Users\\pavan\\Downloads\\Machine Learning Datasets\\Machine Learning Datasets\\Heart Disease\\heart.csv\")\n",
    "#reading csv file using path of file and read_csv() function.\n",
    "type(df)"
   ]
  },
  {
   "cell_type": "code",
   "execution_count": 5,
   "metadata": {},
   "outputs": [
    {
     "data": {
      "text/html": [
       "<div>\n",
       "<style scoped>\n",
       "    .dataframe tbody tr th:only-of-type {\n",
       "        vertical-align: middle;\n",
       "    }\n",
       "\n",
       "    .dataframe tbody tr th {\n",
       "        vertical-align: top;\n",
       "    }\n",
       "\n",
       "    .dataframe thead th {\n",
       "        text-align: right;\n",
       "    }\n",
       "</style>\n",
       "<table border=\"1\" class=\"dataframe\">\n",
       "  <thead>\n",
       "    <tr style=\"text-align: right;\">\n",
       "      <th></th>\n",
       "      <th>70</th>\n",
       "      <th>1</th>\n",
       "      <th>4</th>\n",
       "      <th>130</th>\n",
       "      <th>322</th>\n",
       "      <th>0</th>\n",
       "      <th>2</th>\n",
       "      <th>109</th>\n",
       "      <th>0.1</th>\n",
       "      <th>2.4</th>\n",
       "      <th>2.1</th>\n",
       "      <th>3</th>\n",
       "      <th>3.1</th>\n",
       "      <th>2.2</th>\n",
       "    </tr>\n",
       "  </thead>\n",
       "  <tbody>\n",
       "    <tr>\n",
       "      <th>0</th>\n",
       "      <td>67</td>\n",
       "      <td>0</td>\n",
       "      <td>3</td>\n",
       "      <td>115</td>\n",
       "      <td>564</td>\n",
       "      <td>0</td>\n",
       "      <td>2</td>\n",
       "      <td>160</td>\n",
       "      <td>0</td>\n",
       "      <td>1.6</td>\n",
       "      <td>2</td>\n",
       "      <td>0</td>\n",
       "      <td>7</td>\n",
       "      <td>1</td>\n",
       "    </tr>\n",
       "    <tr>\n",
       "      <th>1</th>\n",
       "      <td>57</td>\n",
       "      <td>1</td>\n",
       "      <td>2</td>\n",
       "      <td>124</td>\n",
       "      <td>261</td>\n",
       "      <td>0</td>\n",
       "      <td>0</td>\n",
       "      <td>141</td>\n",
       "      <td>0</td>\n",
       "      <td>0.3</td>\n",
       "      <td>1</td>\n",
       "      <td>0</td>\n",
       "      <td>7</td>\n",
       "      <td>2</td>\n",
       "    </tr>\n",
       "    <tr>\n",
       "      <th>2</th>\n",
       "      <td>64</td>\n",
       "      <td>1</td>\n",
       "      <td>4</td>\n",
       "      <td>128</td>\n",
       "      <td>263</td>\n",
       "      <td>0</td>\n",
       "      <td>0</td>\n",
       "      <td>105</td>\n",
       "      <td>1</td>\n",
       "      <td>0.2</td>\n",
       "      <td>2</td>\n",
       "      <td>1</td>\n",
       "      <td>7</td>\n",
       "      <td>1</td>\n",
       "    </tr>\n",
       "    <tr>\n",
       "      <th>3</th>\n",
       "      <td>74</td>\n",
       "      <td>0</td>\n",
       "      <td>2</td>\n",
       "      <td>120</td>\n",
       "      <td>269</td>\n",
       "      <td>0</td>\n",
       "      <td>2</td>\n",
       "      <td>121</td>\n",
       "      <td>1</td>\n",
       "      <td>0.2</td>\n",
       "      <td>1</td>\n",
       "      <td>1</td>\n",
       "      <td>3</td>\n",
       "      <td>1</td>\n",
       "    </tr>\n",
       "    <tr>\n",
       "      <th>4</th>\n",
       "      <td>65</td>\n",
       "      <td>1</td>\n",
       "      <td>4</td>\n",
       "      <td>120</td>\n",
       "      <td>177</td>\n",
       "      <td>0</td>\n",
       "      <td>0</td>\n",
       "      <td>140</td>\n",
       "      <td>0</td>\n",
       "      <td>0.4</td>\n",
       "      <td>1</td>\n",
       "      <td>0</td>\n",
       "      <td>7</td>\n",
       "      <td>1</td>\n",
       "    </tr>\n",
       "    <tr>\n",
       "      <th>...</th>\n",
       "      <td>...</td>\n",
       "      <td>...</td>\n",
       "      <td>...</td>\n",
       "      <td>...</td>\n",
       "      <td>...</td>\n",
       "      <td>...</td>\n",
       "      <td>...</td>\n",
       "      <td>...</td>\n",
       "      <td>...</td>\n",
       "      <td>...</td>\n",
       "      <td>...</td>\n",
       "      <td>...</td>\n",
       "      <td>...</td>\n",
       "      <td>...</td>\n",
       "    </tr>\n",
       "    <tr>\n",
       "      <th>264</th>\n",
       "      <td>52</td>\n",
       "      <td>1</td>\n",
       "      <td>3</td>\n",
       "      <td>172</td>\n",
       "      <td>199</td>\n",
       "      <td>1</td>\n",
       "      <td>0</td>\n",
       "      <td>162</td>\n",
       "      <td>0</td>\n",
       "      <td>0.5</td>\n",
       "      <td>1</td>\n",
       "      <td>0</td>\n",
       "      <td>7</td>\n",
       "      <td>1</td>\n",
       "    </tr>\n",
       "    <tr>\n",
       "      <th>265</th>\n",
       "      <td>44</td>\n",
       "      <td>1</td>\n",
       "      <td>2</td>\n",
       "      <td>120</td>\n",
       "      <td>263</td>\n",
       "      <td>0</td>\n",
       "      <td>0</td>\n",
       "      <td>173</td>\n",
       "      <td>0</td>\n",
       "      <td>0.0</td>\n",
       "      <td>1</td>\n",
       "      <td>0</td>\n",
       "      <td>7</td>\n",
       "      <td>1</td>\n",
       "    </tr>\n",
       "    <tr>\n",
       "      <th>266</th>\n",
       "      <td>56</td>\n",
       "      <td>0</td>\n",
       "      <td>2</td>\n",
       "      <td>140</td>\n",
       "      <td>294</td>\n",
       "      <td>0</td>\n",
       "      <td>2</td>\n",
       "      <td>153</td>\n",
       "      <td>0</td>\n",
       "      <td>1.3</td>\n",
       "      <td>2</td>\n",
       "      <td>0</td>\n",
       "      <td>3</td>\n",
       "      <td>1</td>\n",
       "    </tr>\n",
       "    <tr>\n",
       "      <th>267</th>\n",
       "      <td>57</td>\n",
       "      <td>1</td>\n",
       "      <td>4</td>\n",
       "      <td>140</td>\n",
       "      <td>192</td>\n",
       "      <td>0</td>\n",
       "      <td>0</td>\n",
       "      <td>148</td>\n",
       "      <td>0</td>\n",
       "      <td>0.4</td>\n",
       "      <td>2</td>\n",
       "      <td>0</td>\n",
       "      <td>6</td>\n",
       "      <td>1</td>\n",
       "    </tr>\n",
       "    <tr>\n",
       "      <th>268</th>\n",
       "      <td>67</td>\n",
       "      <td>1</td>\n",
       "      <td>4</td>\n",
       "      <td>160</td>\n",
       "      <td>286</td>\n",
       "      <td>0</td>\n",
       "      <td>2</td>\n",
       "      <td>108</td>\n",
       "      <td>1</td>\n",
       "      <td>1.5</td>\n",
       "      <td>2</td>\n",
       "      <td>3</td>\n",
       "      <td>3</td>\n",
       "      <td>2</td>\n",
       "    </tr>\n",
       "  </tbody>\n",
       "</table>\n",
       "<p>269 rows × 14 columns</p>\n",
       "</div>"
      ],
      "text/plain": [
       "     70  1  4  130  322  0  2  109  0.1  2.4  2.1  3  3.1  2.2\n",
       "0    67  0  3  115  564  0  2  160    0  1.6    2  0    7    1\n",
       "1    57  1  2  124  261  0  0  141    0  0.3    1  0    7    2\n",
       "2    64  1  4  128  263  0  0  105    1  0.2    2  1    7    1\n",
       "3    74  0  2  120  269  0  2  121    1  0.2    1  1    3    1\n",
       "4    65  1  4  120  177  0  0  140    0  0.4    1  0    7    1\n",
       "..   .. .. ..  ...  ... .. ..  ...  ...  ...  ... ..  ...  ...\n",
       "264  52  1  3  172  199  1  0  162    0  0.5    1  0    7    1\n",
       "265  44  1  2  120  263  0  0  173    0  0.0    1  0    7    1\n",
       "266  56  0  2  140  294  0  2  153    0  1.3    2  0    3    1\n",
       "267  57  1  4  140  192  0  0  148    0  0.4    2  0    6    1\n",
       "268  67  1  4  160  286  0  2  108    1  1.5    2  3    3    2\n",
       "\n",
       "[269 rows x 14 columns]"
      ]
     },
     "execution_count": 5,
     "metadata": {},
     "output_type": "execute_result"
    }
   ],
   "source": [
    "df"
   ]
  },
  {
   "cell_type": "code",
   "execution_count": 6,
   "metadata": {},
   "outputs": [
    {
     "data": {
      "text/html": [
       "<div>\n",
       "<style scoped>\n",
       "    .dataframe tbody tr th:only-of-type {\n",
       "        vertical-align: middle;\n",
       "    }\n",
       "\n",
       "    .dataframe tbody tr th {\n",
       "        vertical-align: top;\n",
       "    }\n",
       "\n",
       "    .dataframe thead th {\n",
       "        text-align: right;\n",
       "    }\n",
       "</style>\n",
       "<table border=\"1\" class=\"dataframe\">\n",
       "  <thead>\n",
       "    <tr style=\"text-align: right;\">\n",
       "      <th></th>\n",
       "      <th>70</th>\n",
       "      <th>1</th>\n",
       "      <th>4</th>\n",
       "      <th>130</th>\n",
       "      <th>322</th>\n",
       "      <th>0</th>\n",
       "      <th>2</th>\n",
       "      <th>109</th>\n",
       "      <th>0.1</th>\n",
       "      <th>2.4</th>\n",
       "      <th>2.1</th>\n",
       "      <th>3</th>\n",
       "      <th>3.1</th>\n",
       "      <th>2.2</th>\n",
       "    </tr>\n",
       "  </thead>\n",
       "  <tbody>\n",
       "    <tr>\n",
       "      <th>0</th>\n",
       "      <td>67</td>\n",
       "      <td>0</td>\n",
       "      <td>3</td>\n",
       "      <td>115</td>\n",
       "      <td>564</td>\n",
       "      <td>0</td>\n",
       "      <td>2</td>\n",
       "      <td>160</td>\n",
       "      <td>0</td>\n",
       "      <td>1.6</td>\n",
       "      <td>2</td>\n",
       "      <td>0</td>\n",
       "      <td>7</td>\n",
       "      <td>1</td>\n",
       "    </tr>\n",
       "    <tr>\n",
       "      <th>1</th>\n",
       "      <td>57</td>\n",
       "      <td>1</td>\n",
       "      <td>2</td>\n",
       "      <td>124</td>\n",
       "      <td>261</td>\n",
       "      <td>0</td>\n",
       "      <td>0</td>\n",
       "      <td>141</td>\n",
       "      <td>0</td>\n",
       "      <td>0.3</td>\n",
       "      <td>1</td>\n",
       "      <td>0</td>\n",
       "      <td>7</td>\n",
       "      <td>2</td>\n",
       "    </tr>\n",
       "    <tr>\n",
       "      <th>2</th>\n",
       "      <td>64</td>\n",
       "      <td>1</td>\n",
       "      <td>4</td>\n",
       "      <td>128</td>\n",
       "      <td>263</td>\n",
       "      <td>0</td>\n",
       "      <td>0</td>\n",
       "      <td>105</td>\n",
       "      <td>1</td>\n",
       "      <td>0.2</td>\n",
       "      <td>2</td>\n",
       "      <td>1</td>\n",
       "      <td>7</td>\n",
       "      <td>1</td>\n",
       "    </tr>\n",
       "    <tr>\n",
       "      <th>3</th>\n",
       "      <td>74</td>\n",
       "      <td>0</td>\n",
       "      <td>2</td>\n",
       "      <td>120</td>\n",
       "      <td>269</td>\n",
       "      <td>0</td>\n",
       "      <td>2</td>\n",
       "      <td>121</td>\n",
       "      <td>1</td>\n",
       "      <td>0.2</td>\n",
       "      <td>1</td>\n",
       "      <td>1</td>\n",
       "      <td>3</td>\n",
       "      <td>1</td>\n",
       "    </tr>\n",
       "    <tr>\n",
       "      <th>4</th>\n",
       "      <td>65</td>\n",
       "      <td>1</td>\n",
       "      <td>4</td>\n",
       "      <td>120</td>\n",
       "      <td>177</td>\n",
       "      <td>0</td>\n",
       "      <td>0</td>\n",
       "      <td>140</td>\n",
       "      <td>0</td>\n",
       "      <td>0.4</td>\n",
       "      <td>1</td>\n",
       "      <td>0</td>\n",
       "      <td>7</td>\n",
       "      <td>1</td>\n",
       "    </tr>\n",
       "  </tbody>\n",
       "</table>\n",
       "</div>"
      ],
      "text/plain": [
       "   70  1  4  130  322  0  2  109  0.1  2.4  2.1  3  3.1  2.2\n",
       "0  67  0  3  115  564  0  2  160    0  1.6    2  0    7    1\n",
       "1  57  1  2  124  261  0  0  141    0  0.3    1  0    7    2\n",
       "2  64  1  4  128  263  0  0  105    1  0.2    2  1    7    1\n",
       "3  74  0  2  120  269  0  2  121    1  0.2    1  1    3    1\n",
       "4  65  1  4  120  177  0  0  140    0  0.4    1  0    7    1"
      ]
     },
     "execution_count": 6,
     "metadata": {},
     "output_type": "execute_result"
    }
   ],
   "source": [
    "df.head()"
   ]
  },
  {
   "cell_type": "markdown",
   "metadata": {},
   "source": [
    "Next I am adding headings to my datasets,so it will be easy to split data for trainig and testing and visualization."
   ]
  },
  {
   "cell_type": "code",
   "execution_count": 7,
   "metadata": {},
   "outputs": [],
   "source": [
    "# adding header\n",
    "header_names = ['age','sex   0:female,1:male','chest pain type','resting blood pressure','serum cholestoral in mg/dl','fasting blood sugar > 120 mg/dl','resting electrocardiographic results','maximum heart rate achieved','exercise induced angina','oldpeak = ST depression induced by exercise relative to rest','the slope of the peak exercise ST segment','number of major vessels (0-3) colored by flourosopy','thal: 3 = normal; 6 = fixed defect; 7 = reversable defect','Absence (1) or presence (2) of heart disease']\n",
    "df=pd.read_csv(r\"C:\\Users\\pavan\\Downloads\\Machine Learning Datasets\\Machine Learning Datasets\\Heart Disease\\heart.csv\",header=None,skiprows=1,names=header_names)"
   ]
  },
  {
   "cell_type": "code",
   "execution_count": 8,
   "metadata": {},
   "outputs": [
    {
     "data": {
      "text/html": [
       "<div>\n",
       "<style scoped>\n",
       "    .dataframe tbody tr th:only-of-type {\n",
       "        vertical-align: middle;\n",
       "    }\n",
       "\n",
       "    .dataframe tbody tr th {\n",
       "        vertical-align: top;\n",
       "    }\n",
       "\n",
       "    .dataframe thead th {\n",
       "        text-align: right;\n",
       "    }\n",
       "</style>\n",
       "<table border=\"1\" class=\"dataframe\">\n",
       "  <thead>\n",
       "    <tr style=\"text-align: right;\">\n",
       "      <th></th>\n",
       "      <th>age</th>\n",
       "      <th>sex   0:female,1:male</th>\n",
       "      <th>chest pain type</th>\n",
       "      <th>resting blood pressure</th>\n",
       "      <th>serum cholestoral in mg/dl</th>\n",
       "      <th>fasting blood sugar &gt; 120 mg/dl</th>\n",
       "      <th>resting electrocardiographic results</th>\n",
       "      <th>maximum heart rate achieved</th>\n",
       "      <th>exercise induced angina</th>\n",
       "      <th>oldpeak = ST depression induced by exercise relative to rest</th>\n",
       "      <th>the slope of the peak exercise ST segment</th>\n",
       "      <th>number of major vessels (0-3) colored by flourosopy</th>\n",
       "      <th>thal: 3 = normal; 6 = fixed defect; 7 = reversable defect</th>\n",
       "      <th>Absence (1) or presence (2) of heart disease</th>\n",
       "    </tr>\n",
       "  </thead>\n",
       "  <tbody>\n",
       "    <tr>\n",
       "      <th>0</th>\n",
       "      <td>67</td>\n",
       "      <td>0</td>\n",
       "      <td>3</td>\n",
       "      <td>115</td>\n",
       "      <td>564</td>\n",
       "      <td>0</td>\n",
       "      <td>2</td>\n",
       "      <td>160</td>\n",
       "      <td>0</td>\n",
       "      <td>1.6</td>\n",
       "      <td>2</td>\n",
       "      <td>0</td>\n",
       "      <td>7</td>\n",
       "      <td>1</td>\n",
       "    </tr>\n",
       "    <tr>\n",
       "      <th>1</th>\n",
       "      <td>57</td>\n",
       "      <td>1</td>\n",
       "      <td>2</td>\n",
       "      <td>124</td>\n",
       "      <td>261</td>\n",
       "      <td>0</td>\n",
       "      <td>0</td>\n",
       "      <td>141</td>\n",
       "      <td>0</td>\n",
       "      <td>0.3</td>\n",
       "      <td>1</td>\n",
       "      <td>0</td>\n",
       "      <td>7</td>\n",
       "      <td>2</td>\n",
       "    </tr>\n",
       "    <tr>\n",
       "      <th>2</th>\n",
       "      <td>64</td>\n",
       "      <td>1</td>\n",
       "      <td>4</td>\n",
       "      <td>128</td>\n",
       "      <td>263</td>\n",
       "      <td>0</td>\n",
       "      <td>0</td>\n",
       "      <td>105</td>\n",
       "      <td>1</td>\n",
       "      <td>0.2</td>\n",
       "      <td>2</td>\n",
       "      <td>1</td>\n",
       "      <td>7</td>\n",
       "      <td>1</td>\n",
       "    </tr>\n",
       "    <tr>\n",
       "      <th>3</th>\n",
       "      <td>74</td>\n",
       "      <td>0</td>\n",
       "      <td>2</td>\n",
       "      <td>120</td>\n",
       "      <td>269</td>\n",
       "      <td>0</td>\n",
       "      <td>2</td>\n",
       "      <td>121</td>\n",
       "      <td>1</td>\n",
       "      <td>0.2</td>\n",
       "      <td>1</td>\n",
       "      <td>1</td>\n",
       "      <td>3</td>\n",
       "      <td>1</td>\n",
       "    </tr>\n",
       "    <tr>\n",
       "      <th>4</th>\n",
       "      <td>65</td>\n",
       "      <td>1</td>\n",
       "      <td>4</td>\n",
       "      <td>120</td>\n",
       "      <td>177</td>\n",
       "      <td>0</td>\n",
       "      <td>0</td>\n",
       "      <td>140</td>\n",
       "      <td>0</td>\n",
       "      <td>0.4</td>\n",
       "      <td>1</td>\n",
       "      <td>0</td>\n",
       "      <td>7</td>\n",
       "      <td>1</td>\n",
       "    </tr>\n",
       "    <tr>\n",
       "      <th>...</th>\n",
       "      <td>...</td>\n",
       "      <td>...</td>\n",
       "      <td>...</td>\n",
       "      <td>...</td>\n",
       "      <td>...</td>\n",
       "      <td>...</td>\n",
       "      <td>...</td>\n",
       "      <td>...</td>\n",
       "      <td>...</td>\n",
       "      <td>...</td>\n",
       "      <td>...</td>\n",
       "      <td>...</td>\n",
       "      <td>...</td>\n",
       "      <td>...</td>\n",
       "    </tr>\n",
       "    <tr>\n",
       "      <th>264</th>\n",
       "      <td>52</td>\n",
       "      <td>1</td>\n",
       "      <td>3</td>\n",
       "      <td>172</td>\n",
       "      <td>199</td>\n",
       "      <td>1</td>\n",
       "      <td>0</td>\n",
       "      <td>162</td>\n",
       "      <td>0</td>\n",
       "      <td>0.5</td>\n",
       "      <td>1</td>\n",
       "      <td>0</td>\n",
       "      <td>7</td>\n",
       "      <td>1</td>\n",
       "    </tr>\n",
       "    <tr>\n",
       "      <th>265</th>\n",
       "      <td>44</td>\n",
       "      <td>1</td>\n",
       "      <td>2</td>\n",
       "      <td>120</td>\n",
       "      <td>263</td>\n",
       "      <td>0</td>\n",
       "      <td>0</td>\n",
       "      <td>173</td>\n",
       "      <td>0</td>\n",
       "      <td>0.0</td>\n",
       "      <td>1</td>\n",
       "      <td>0</td>\n",
       "      <td>7</td>\n",
       "      <td>1</td>\n",
       "    </tr>\n",
       "    <tr>\n",
       "      <th>266</th>\n",
       "      <td>56</td>\n",
       "      <td>0</td>\n",
       "      <td>2</td>\n",
       "      <td>140</td>\n",
       "      <td>294</td>\n",
       "      <td>0</td>\n",
       "      <td>2</td>\n",
       "      <td>153</td>\n",
       "      <td>0</td>\n",
       "      <td>1.3</td>\n",
       "      <td>2</td>\n",
       "      <td>0</td>\n",
       "      <td>3</td>\n",
       "      <td>1</td>\n",
       "    </tr>\n",
       "    <tr>\n",
       "      <th>267</th>\n",
       "      <td>57</td>\n",
       "      <td>1</td>\n",
       "      <td>4</td>\n",
       "      <td>140</td>\n",
       "      <td>192</td>\n",
       "      <td>0</td>\n",
       "      <td>0</td>\n",
       "      <td>148</td>\n",
       "      <td>0</td>\n",
       "      <td>0.4</td>\n",
       "      <td>2</td>\n",
       "      <td>0</td>\n",
       "      <td>6</td>\n",
       "      <td>1</td>\n",
       "    </tr>\n",
       "    <tr>\n",
       "      <th>268</th>\n",
       "      <td>67</td>\n",
       "      <td>1</td>\n",
       "      <td>4</td>\n",
       "      <td>160</td>\n",
       "      <td>286</td>\n",
       "      <td>0</td>\n",
       "      <td>2</td>\n",
       "      <td>108</td>\n",
       "      <td>1</td>\n",
       "      <td>1.5</td>\n",
       "      <td>2</td>\n",
       "      <td>3</td>\n",
       "      <td>3</td>\n",
       "      <td>2</td>\n",
       "    </tr>\n",
       "  </tbody>\n",
       "</table>\n",
       "<p>269 rows × 14 columns</p>\n",
       "</div>"
      ],
      "text/plain": [
       "     age  sex   0:female,1:male  chest pain type  resting blood pressure  \\\n",
       "0     67                      0                3                     115   \n",
       "1     57                      1                2                     124   \n",
       "2     64                      1                4                     128   \n",
       "3     74                      0                2                     120   \n",
       "4     65                      1                4                     120   \n",
       "..   ...                    ...              ...                     ...   \n",
       "264   52                      1                3                     172   \n",
       "265   44                      1                2                     120   \n",
       "266   56                      0                2                     140   \n",
       "267   57                      1                4                     140   \n",
       "268   67                      1                4                     160   \n",
       "\n",
       "     serum cholestoral in mg/dl  fasting blood sugar > 120 mg/dl  \\\n",
       "0                           564                                0   \n",
       "1                           261                                0   \n",
       "2                           263                                0   \n",
       "3                           269                                0   \n",
       "4                           177                                0   \n",
       "..                          ...                              ...   \n",
       "264                         199                                1   \n",
       "265                         263                                0   \n",
       "266                         294                                0   \n",
       "267                         192                                0   \n",
       "268                         286                                0   \n",
       "\n",
       "     resting electrocardiographic results  maximum heart rate achieved  \\\n",
       "0                                       2                          160   \n",
       "1                                       0                          141   \n",
       "2                                       0                          105   \n",
       "3                                       2                          121   \n",
       "4                                       0                          140   \n",
       "..                                    ...                          ...   \n",
       "264                                     0                          162   \n",
       "265                                     0                          173   \n",
       "266                                     2                          153   \n",
       "267                                     0                          148   \n",
       "268                                     2                          108   \n",
       "\n",
       "     exercise induced angina  \\\n",
       "0                          0   \n",
       "1                          0   \n",
       "2                          1   \n",
       "3                          1   \n",
       "4                          0   \n",
       "..                       ...   \n",
       "264                        0   \n",
       "265                        0   \n",
       "266                        0   \n",
       "267                        0   \n",
       "268                        1   \n",
       "\n",
       "     oldpeak = ST depression induced by exercise relative to rest  \\\n",
       "0                                                  1.6              \n",
       "1                                                  0.3              \n",
       "2                                                  0.2              \n",
       "3                                                  0.2              \n",
       "4                                                  0.4              \n",
       "..                                                 ...              \n",
       "264                                                0.5              \n",
       "265                                                0.0              \n",
       "266                                                1.3              \n",
       "267                                                0.4              \n",
       "268                                                1.5              \n",
       "\n",
       "     the slope of the peak exercise ST segment  \\\n",
       "0                                            2   \n",
       "1                                            1   \n",
       "2                                            2   \n",
       "3                                            1   \n",
       "4                                            1   \n",
       "..                                         ...   \n",
       "264                                          1   \n",
       "265                                          1   \n",
       "266                                          2   \n",
       "267                                          2   \n",
       "268                                          2   \n",
       "\n",
       "     number of major vessels (0-3) colored by flourosopy  \\\n",
       "0                                                    0     \n",
       "1                                                    0     \n",
       "2                                                    1     \n",
       "3                                                    1     \n",
       "4                                                    0     \n",
       "..                                                 ...     \n",
       "264                                                  0     \n",
       "265                                                  0     \n",
       "266                                                  0     \n",
       "267                                                  0     \n",
       "268                                                  3     \n",
       "\n",
       "     thal: 3 = normal; 6 = fixed defect; 7 = reversable defect  \\\n",
       "0                                                    7           \n",
       "1                                                    7           \n",
       "2                                                    7           \n",
       "3                                                    3           \n",
       "4                                                    7           \n",
       "..                                                 ...           \n",
       "264                                                  7           \n",
       "265                                                  7           \n",
       "266                                                  3           \n",
       "267                                                  6           \n",
       "268                                                  3           \n",
       "\n",
       "     Absence (1) or presence (2) of heart disease  \n",
       "0                                               1  \n",
       "1                                               2  \n",
       "2                                               1  \n",
       "3                                               1  \n",
       "4                                               1  \n",
       "..                                            ...  \n",
       "264                                             1  \n",
       "265                                             1  \n",
       "266                                             1  \n",
       "267                                             1  \n",
       "268                                             2  \n",
       "\n",
       "[269 rows x 14 columns]"
      ]
     },
     "execution_count": 8,
     "metadata": {},
     "output_type": "execute_result"
    }
   ],
   "source": [
    "df"
   ]
  },
  {
   "cell_type": "markdown",
   "metadata": {},
   "source": [
    "Using the desribe() and info() methods we can see the dataset loaded with variables, Now the dataset is ready to start processing and visualizing."
   ]
  },
  {
   "cell_type": "code",
   "execution_count": 9,
   "metadata": {},
   "outputs": [
    {
     "name": "stdout",
     "output_type": "stream",
     "text": [
      "<class 'pandas.core.frame.DataFrame'>\n",
      "RangeIndex: 269 entries, 0 to 268\n",
      "Data columns (total 14 columns):\n",
      " #   Column                                                        Non-Null Count  Dtype  \n",
      "---  ------                                                        --------------  -----  \n",
      " 0   age                                                           269 non-null    int64  \n",
      " 1   sex   0:female,1:male                                         269 non-null    int64  \n",
      " 2   chest pain type                                               269 non-null    int64  \n",
      " 3   resting blood pressure                                        269 non-null    int64  \n",
      " 4   serum cholestoral in mg/dl                                    269 non-null    int64  \n",
      " 5   fasting blood sugar > 120 mg/dl                               269 non-null    int64  \n",
      " 6   resting electrocardiographic results                          269 non-null    int64  \n",
      " 7   maximum heart rate achieved                                   269 non-null    int64  \n",
      " 8   exercise induced angina                                       269 non-null    int64  \n",
      " 9   oldpeak = ST depression induced by exercise relative to rest  269 non-null    float64\n",
      " 10  the slope of the peak exercise ST segment                     269 non-null    int64  \n",
      " 11  number of major vessels (0-3) colored by flourosopy           269 non-null    int64  \n",
      " 12  thal: 3 = normal; 6 = fixed defect; 7 = reversable defect     269 non-null    int64  \n",
      " 13  Absence (1) or presence (2) of heart disease                  269 non-null    int64  \n",
      "dtypes: float64(1), int64(13)\n",
      "memory usage: 29.5 KB\n"
     ]
    }
   ],
   "source": [
    "df.info()"
   ]
  },
  {
   "cell_type": "code",
   "execution_count": 10,
   "metadata": {},
   "outputs": [
    {
     "data": {
      "text/html": [
       "<div>\n",
       "<style scoped>\n",
       "    .dataframe tbody tr th:only-of-type {\n",
       "        vertical-align: middle;\n",
       "    }\n",
       "\n",
       "    .dataframe tbody tr th {\n",
       "        vertical-align: top;\n",
       "    }\n",
       "\n",
       "    .dataframe thead th {\n",
       "        text-align: right;\n",
       "    }\n",
       "</style>\n",
       "<table border=\"1\" class=\"dataframe\">\n",
       "  <thead>\n",
       "    <tr style=\"text-align: right;\">\n",
       "      <th></th>\n",
       "      <th>age</th>\n",
       "      <th>sex   0:female,1:male</th>\n",
       "      <th>chest pain type</th>\n",
       "      <th>resting blood pressure</th>\n",
       "      <th>serum cholestoral in mg/dl</th>\n",
       "      <th>fasting blood sugar &gt; 120 mg/dl</th>\n",
       "      <th>resting electrocardiographic results</th>\n",
       "      <th>maximum heart rate achieved</th>\n",
       "      <th>exercise induced angina</th>\n",
       "      <th>oldpeak = ST depression induced by exercise relative to rest</th>\n",
       "      <th>the slope of the peak exercise ST segment</th>\n",
       "      <th>number of major vessels (0-3) colored by flourosopy</th>\n",
       "      <th>thal: 3 = normal; 6 = fixed defect; 7 = reversable defect</th>\n",
       "      <th>Absence (1) or presence (2) of heart disease</th>\n",
       "    </tr>\n",
       "  </thead>\n",
       "  <tbody>\n",
       "    <tr>\n",
       "      <th>count</th>\n",
       "      <td>269.000000</td>\n",
       "      <td>269.000000</td>\n",
       "      <td>269.000000</td>\n",
       "      <td>269.000000</td>\n",
       "      <td>269.000000</td>\n",
       "      <td>269.000000</td>\n",
       "      <td>269.000000</td>\n",
       "      <td>269.000000</td>\n",
       "      <td>269.000000</td>\n",
       "      <td>269.000000</td>\n",
       "      <td>269.000000</td>\n",
       "      <td>269.000000</td>\n",
       "      <td>269.000000</td>\n",
       "      <td>269.000000</td>\n",
       "    </tr>\n",
       "    <tr>\n",
       "      <th>mean</th>\n",
       "      <td>54.375465</td>\n",
       "      <td>0.676580</td>\n",
       "      <td>3.171004</td>\n",
       "      <td>131.349442</td>\n",
       "      <td>249.390335</td>\n",
       "      <td>0.148699</td>\n",
       "      <td>1.018587</td>\n",
       "      <td>149.828996</td>\n",
       "      <td>0.330855</td>\n",
       "      <td>1.044981</td>\n",
       "      <td>1.583643</td>\n",
       "      <td>0.661710</td>\n",
       "      <td>4.702602</td>\n",
       "      <td>1.442379</td>\n",
       "    </tr>\n",
       "    <tr>\n",
       "      <th>std</th>\n",
       "      <td>9.076186</td>\n",
       "      <td>0.468653</td>\n",
       "      <td>0.950518</td>\n",
       "      <td>17.894712</td>\n",
       "      <td>51.592983</td>\n",
       "      <td>0.356455</td>\n",
       "      <td>0.997959</td>\n",
       "      <td>23.075002</td>\n",
       "      <td>0.471398</td>\n",
       "      <td>1.144366</td>\n",
       "      <td>0.615011</td>\n",
       "      <td>0.934847</td>\n",
       "      <td>1.941503</td>\n",
       "      <td>0.497595</td>\n",
       "    </tr>\n",
       "    <tr>\n",
       "      <th>min</th>\n",
       "      <td>29.000000</td>\n",
       "      <td>0.000000</td>\n",
       "      <td>1.000000</td>\n",
       "      <td>94.000000</td>\n",
       "      <td>126.000000</td>\n",
       "      <td>0.000000</td>\n",
       "      <td>0.000000</td>\n",
       "      <td>71.000000</td>\n",
       "      <td>0.000000</td>\n",
       "      <td>0.000000</td>\n",
       "      <td>1.000000</td>\n",
       "      <td>0.000000</td>\n",
       "      <td>3.000000</td>\n",
       "      <td>1.000000</td>\n",
       "    </tr>\n",
       "    <tr>\n",
       "      <th>25%</th>\n",
       "      <td>48.000000</td>\n",
       "      <td>0.000000</td>\n",
       "      <td>3.000000</td>\n",
       "      <td>120.000000</td>\n",
       "      <td>213.000000</td>\n",
       "      <td>0.000000</td>\n",
       "      <td>0.000000</td>\n",
       "      <td>133.000000</td>\n",
       "      <td>0.000000</td>\n",
       "      <td>0.000000</td>\n",
       "      <td>1.000000</td>\n",
       "      <td>0.000000</td>\n",
       "      <td>3.000000</td>\n",
       "      <td>1.000000</td>\n",
       "    </tr>\n",
       "    <tr>\n",
       "      <th>50%</th>\n",
       "      <td>55.000000</td>\n",
       "      <td>1.000000</td>\n",
       "      <td>3.000000</td>\n",
       "      <td>130.000000</td>\n",
       "      <td>245.000000</td>\n",
       "      <td>0.000000</td>\n",
       "      <td>2.000000</td>\n",
       "      <td>154.000000</td>\n",
       "      <td>0.000000</td>\n",
       "      <td>0.800000</td>\n",
       "      <td>2.000000</td>\n",
       "      <td>0.000000</td>\n",
       "      <td>3.000000</td>\n",
       "      <td>1.000000</td>\n",
       "    </tr>\n",
       "    <tr>\n",
       "      <th>75%</th>\n",
       "      <td>61.000000</td>\n",
       "      <td>1.000000</td>\n",
       "      <td>4.000000</td>\n",
       "      <td>140.000000</td>\n",
       "      <td>277.000000</td>\n",
       "      <td>0.000000</td>\n",
       "      <td>2.000000</td>\n",
       "      <td>166.000000</td>\n",
       "      <td>1.000000</td>\n",
       "      <td>1.600000</td>\n",
       "      <td>2.000000</td>\n",
       "      <td>1.000000</td>\n",
       "      <td>7.000000</td>\n",
       "      <td>2.000000</td>\n",
       "    </tr>\n",
       "    <tr>\n",
       "      <th>max</th>\n",
       "      <td>77.000000</td>\n",
       "      <td>1.000000</td>\n",
       "      <td>4.000000</td>\n",
       "      <td>200.000000</td>\n",
       "      <td>564.000000</td>\n",
       "      <td>1.000000</td>\n",
       "      <td>2.000000</td>\n",
       "      <td>202.000000</td>\n",
       "      <td>1.000000</td>\n",
       "      <td>6.200000</td>\n",
       "      <td>3.000000</td>\n",
       "      <td>3.000000</td>\n",
       "      <td>7.000000</td>\n",
       "      <td>2.000000</td>\n",
       "    </tr>\n",
       "  </tbody>\n",
       "</table>\n",
       "</div>"
      ],
      "text/plain": [
       "              age  sex   0:female,1:male  chest pain type  \\\n",
       "count  269.000000             269.000000       269.000000   \n",
       "mean    54.375465               0.676580         3.171004   \n",
       "std      9.076186               0.468653         0.950518   \n",
       "min     29.000000               0.000000         1.000000   \n",
       "25%     48.000000               0.000000         3.000000   \n",
       "50%     55.000000               1.000000         3.000000   \n",
       "75%     61.000000               1.000000         4.000000   \n",
       "max     77.000000               1.000000         4.000000   \n",
       "\n",
       "       resting blood pressure  serum cholestoral in mg/dl  \\\n",
       "count              269.000000                  269.000000   \n",
       "mean               131.349442                  249.390335   \n",
       "std                 17.894712                   51.592983   \n",
       "min                 94.000000                  126.000000   \n",
       "25%                120.000000                  213.000000   \n",
       "50%                130.000000                  245.000000   \n",
       "75%                140.000000                  277.000000   \n",
       "max                200.000000                  564.000000   \n",
       "\n",
       "       fasting blood sugar > 120 mg/dl  resting electrocardiographic results  \\\n",
       "count                       269.000000                            269.000000   \n",
       "mean                          0.148699                              1.018587   \n",
       "std                           0.356455                              0.997959   \n",
       "min                           0.000000                              0.000000   \n",
       "25%                           0.000000                              0.000000   \n",
       "50%                           0.000000                              2.000000   \n",
       "75%                           0.000000                              2.000000   \n",
       "max                           1.000000                              2.000000   \n",
       "\n",
       "       maximum heart rate achieved  exercise induced angina  \\\n",
       "count                   269.000000               269.000000   \n",
       "mean                    149.828996                 0.330855   \n",
       "std                      23.075002                 0.471398   \n",
       "min                      71.000000                 0.000000   \n",
       "25%                     133.000000                 0.000000   \n",
       "50%                     154.000000                 0.000000   \n",
       "75%                     166.000000                 1.000000   \n",
       "max                     202.000000                 1.000000   \n",
       "\n",
       "       oldpeak = ST depression induced by exercise relative to rest  \\\n",
       "count                                         269.000000              \n",
       "mean                                            1.044981              \n",
       "std                                             1.144366              \n",
       "min                                             0.000000              \n",
       "25%                                             0.000000              \n",
       "50%                                             0.800000              \n",
       "75%                                             1.600000              \n",
       "max                                             6.200000              \n",
       "\n",
       "       the slope of the peak exercise ST segment  \\\n",
       "count                                 269.000000   \n",
       "mean                                    1.583643   \n",
       "std                                     0.615011   \n",
       "min                                     1.000000   \n",
       "25%                                     1.000000   \n",
       "50%                                     2.000000   \n",
       "75%                                     2.000000   \n",
       "max                                     3.000000   \n",
       "\n",
       "       number of major vessels (0-3) colored by flourosopy  \\\n",
       "count                                         269.000000     \n",
       "mean                                            0.661710     \n",
       "std                                             0.934847     \n",
       "min                                             0.000000     \n",
       "25%                                             0.000000     \n",
       "50%                                             0.000000     \n",
       "75%                                             1.000000     \n",
       "max                                             3.000000     \n",
       "\n",
       "       thal: 3 = normal; 6 = fixed defect; 7 = reversable defect  \\\n",
       "count                                         269.000000           \n",
       "mean                                            4.702602           \n",
       "std                                             1.941503           \n",
       "min                                             3.000000           \n",
       "25%                                             3.000000           \n",
       "50%                                             3.000000           \n",
       "75%                                             7.000000           \n",
       "max                                             7.000000           \n",
       "\n",
       "       Absence (1) or presence (2) of heart disease  \n",
       "count                                    269.000000  \n",
       "mean                                       1.442379  \n",
       "std                                        0.497595  \n",
       "min                                        1.000000  \n",
       "25%                                        1.000000  \n",
       "50%                                        1.000000  \n",
       "75%                                        2.000000  \n",
       "max                                        2.000000  "
      ]
     },
     "execution_count": 10,
     "metadata": {},
     "output_type": "execute_result"
    }
   ],
   "source": [
    "df.describe()"
   ]
  },
  {
   "cell_type": "markdown",
   "metadata": {},
   "source": [
    "Now we are minimizing the names of the headings to understand easily."
   ]
  },
  {
   "cell_type": "code",
   "execution_count": 11,
   "metadata": {},
   "outputs": [],
   "source": [
    "header_names = ['age','sex','chest pain','rest bp','serum chol','sugar','elcardgraph','heartrate','angina','oldpeak','slope','flourosopy','thal','Absence (1) or presence (2) of heart disease']\n",
    "df=pd.read_csv(r\"C:\\Users\\pavan\\Downloads\\Machine Learning Datasets\\Machine Learning Datasets\\Heart Disease\\heart.csv\",header=None,skiprows=1,names=header_names)"
   ]
  },
  {
   "cell_type": "code",
   "execution_count": 12,
   "metadata": {},
   "outputs": [
    {
     "data": {
      "text/html": [
       "<div>\n",
       "<style scoped>\n",
       "    .dataframe tbody tr th:only-of-type {\n",
       "        vertical-align: middle;\n",
       "    }\n",
       "\n",
       "    .dataframe tbody tr th {\n",
       "        vertical-align: top;\n",
       "    }\n",
       "\n",
       "    .dataframe thead th {\n",
       "        text-align: right;\n",
       "    }\n",
       "</style>\n",
       "<table border=\"1\" class=\"dataframe\">\n",
       "  <thead>\n",
       "    <tr style=\"text-align: right;\">\n",
       "      <th></th>\n",
       "      <th>age</th>\n",
       "      <th>sex</th>\n",
       "      <th>chest pain</th>\n",
       "      <th>rest bp</th>\n",
       "      <th>serum chol</th>\n",
       "      <th>sugar</th>\n",
       "      <th>elcardgraph</th>\n",
       "      <th>heartrate</th>\n",
       "      <th>angina</th>\n",
       "      <th>oldpeak</th>\n",
       "      <th>slope</th>\n",
       "      <th>flourosopy</th>\n",
       "      <th>thal</th>\n",
       "      <th>Absence (1) or presence (2) of heart disease</th>\n",
       "    </tr>\n",
       "  </thead>\n",
       "  <tbody>\n",
       "    <tr>\n",
       "      <th>0</th>\n",
       "      <td>67</td>\n",
       "      <td>0</td>\n",
       "      <td>3</td>\n",
       "      <td>115</td>\n",
       "      <td>564</td>\n",
       "      <td>0</td>\n",
       "      <td>2</td>\n",
       "      <td>160</td>\n",
       "      <td>0</td>\n",
       "      <td>1.6</td>\n",
       "      <td>2</td>\n",
       "      <td>0</td>\n",
       "      <td>7</td>\n",
       "      <td>1</td>\n",
       "    </tr>\n",
       "    <tr>\n",
       "      <th>1</th>\n",
       "      <td>57</td>\n",
       "      <td>1</td>\n",
       "      <td>2</td>\n",
       "      <td>124</td>\n",
       "      <td>261</td>\n",
       "      <td>0</td>\n",
       "      <td>0</td>\n",
       "      <td>141</td>\n",
       "      <td>0</td>\n",
       "      <td>0.3</td>\n",
       "      <td>1</td>\n",
       "      <td>0</td>\n",
       "      <td>7</td>\n",
       "      <td>2</td>\n",
       "    </tr>\n",
       "    <tr>\n",
       "      <th>2</th>\n",
       "      <td>64</td>\n",
       "      <td>1</td>\n",
       "      <td>4</td>\n",
       "      <td>128</td>\n",
       "      <td>263</td>\n",
       "      <td>0</td>\n",
       "      <td>0</td>\n",
       "      <td>105</td>\n",
       "      <td>1</td>\n",
       "      <td>0.2</td>\n",
       "      <td>2</td>\n",
       "      <td>1</td>\n",
       "      <td>7</td>\n",
       "      <td>1</td>\n",
       "    </tr>\n",
       "    <tr>\n",
       "      <th>3</th>\n",
       "      <td>74</td>\n",
       "      <td>0</td>\n",
       "      <td>2</td>\n",
       "      <td>120</td>\n",
       "      <td>269</td>\n",
       "      <td>0</td>\n",
       "      <td>2</td>\n",
       "      <td>121</td>\n",
       "      <td>1</td>\n",
       "      <td>0.2</td>\n",
       "      <td>1</td>\n",
       "      <td>1</td>\n",
       "      <td>3</td>\n",
       "      <td>1</td>\n",
       "    </tr>\n",
       "    <tr>\n",
       "      <th>4</th>\n",
       "      <td>65</td>\n",
       "      <td>1</td>\n",
       "      <td>4</td>\n",
       "      <td>120</td>\n",
       "      <td>177</td>\n",
       "      <td>0</td>\n",
       "      <td>0</td>\n",
       "      <td>140</td>\n",
       "      <td>0</td>\n",
       "      <td>0.4</td>\n",
       "      <td>1</td>\n",
       "      <td>0</td>\n",
       "      <td>7</td>\n",
       "      <td>1</td>\n",
       "    </tr>\n",
       "    <tr>\n",
       "      <th>...</th>\n",
       "      <td>...</td>\n",
       "      <td>...</td>\n",
       "      <td>...</td>\n",
       "      <td>...</td>\n",
       "      <td>...</td>\n",
       "      <td>...</td>\n",
       "      <td>...</td>\n",
       "      <td>...</td>\n",
       "      <td>...</td>\n",
       "      <td>...</td>\n",
       "      <td>...</td>\n",
       "      <td>...</td>\n",
       "      <td>...</td>\n",
       "      <td>...</td>\n",
       "    </tr>\n",
       "    <tr>\n",
       "      <th>264</th>\n",
       "      <td>52</td>\n",
       "      <td>1</td>\n",
       "      <td>3</td>\n",
       "      <td>172</td>\n",
       "      <td>199</td>\n",
       "      <td>1</td>\n",
       "      <td>0</td>\n",
       "      <td>162</td>\n",
       "      <td>0</td>\n",
       "      <td>0.5</td>\n",
       "      <td>1</td>\n",
       "      <td>0</td>\n",
       "      <td>7</td>\n",
       "      <td>1</td>\n",
       "    </tr>\n",
       "    <tr>\n",
       "      <th>265</th>\n",
       "      <td>44</td>\n",
       "      <td>1</td>\n",
       "      <td>2</td>\n",
       "      <td>120</td>\n",
       "      <td>263</td>\n",
       "      <td>0</td>\n",
       "      <td>0</td>\n",
       "      <td>173</td>\n",
       "      <td>0</td>\n",
       "      <td>0.0</td>\n",
       "      <td>1</td>\n",
       "      <td>0</td>\n",
       "      <td>7</td>\n",
       "      <td>1</td>\n",
       "    </tr>\n",
       "    <tr>\n",
       "      <th>266</th>\n",
       "      <td>56</td>\n",
       "      <td>0</td>\n",
       "      <td>2</td>\n",
       "      <td>140</td>\n",
       "      <td>294</td>\n",
       "      <td>0</td>\n",
       "      <td>2</td>\n",
       "      <td>153</td>\n",
       "      <td>0</td>\n",
       "      <td>1.3</td>\n",
       "      <td>2</td>\n",
       "      <td>0</td>\n",
       "      <td>3</td>\n",
       "      <td>1</td>\n",
       "    </tr>\n",
       "    <tr>\n",
       "      <th>267</th>\n",
       "      <td>57</td>\n",
       "      <td>1</td>\n",
       "      <td>4</td>\n",
       "      <td>140</td>\n",
       "      <td>192</td>\n",
       "      <td>0</td>\n",
       "      <td>0</td>\n",
       "      <td>148</td>\n",
       "      <td>0</td>\n",
       "      <td>0.4</td>\n",
       "      <td>2</td>\n",
       "      <td>0</td>\n",
       "      <td>6</td>\n",
       "      <td>1</td>\n",
       "    </tr>\n",
       "    <tr>\n",
       "      <th>268</th>\n",
       "      <td>67</td>\n",
       "      <td>1</td>\n",
       "      <td>4</td>\n",
       "      <td>160</td>\n",
       "      <td>286</td>\n",
       "      <td>0</td>\n",
       "      <td>2</td>\n",
       "      <td>108</td>\n",
       "      <td>1</td>\n",
       "      <td>1.5</td>\n",
       "      <td>2</td>\n",
       "      <td>3</td>\n",
       "      <td>3</td>\n",
       "      <td>2</td>\n",
       "    </tr>\n",
       "  </tbody>\n",
       "</table>\n",
       "<p>269 rows × 14 columns</p>\n",
       "</div>"
      ],
      "text/plain": [
       "     age  sex  chest pain  rest bp  serum chol  sugar  elcardgraph  heartrate  \\\n",
       "0     67    0           3      115         564      0            2        160   \n",
       "1     57    1           2      124         261      0            0        141   \n",
       "2     64    1           4      128         263      0            0        105   \n",
       "3     74    0           2      120         269      0            2        121   \n",
       "4     65    1           4      120         177      0            0        140   \n",
       "..   ...  ...         ...      ...         ...    ...          ...        ...   \n",
       "264   52    1           3      172         199      1            0        162   \n",
       "265   44    1           2      120         263      0            0        173   \n",
       "266   56    0           2      140         294      0            2        153   \n",
       "267   57    1           4      140         192      0            0        148   \n",
       "268   67    1           4      160         286      0            2        108   \n",
       "\n",
       "     angina  oldpeak  slope  flourosopy  thal  \\\n",
       "0         0      1.6      2           0     7   \n",
       "1         0      0.3      1           0     7   \n",
       "2         1      0.2      2           1     7   \n",
       "3         1      0.2      1           1     3   \n",
       "4         0      0.4      1           0     7   \n",
       "..      ...      ...    ...         ...   ...   \n",
       "264       0      0.5      1           0     7   \n",
       "265       0      0.0      1           0     7   \n",
       "266       0      1.3      2           0     3   \n",
       "267       0      0.4      2           0     6   \n",
       "268       1      1.5      2           3     3   \n",
       "\n",
       "     Absence (1) or presence (2) of heart disease  \n",
       "0                                               1  \n",
       "1                                               2  \n",
       "2                                               1  \n",
       "3                                               1  \n",
       "4                                               1  \n",
       "..                                            ...  \n",
       "264                                             1  \n",
       "265                                             1  \n",
       "266                                             1  \n",
       "267                                             1  \n",
       "268                                             2  \n",
       "\n",
       "[269 rows x 14 columns]"
      ]
     },
     "execution_count": 12,
     "metadata": {},
     "output_type": "execute_result"
    }
   ],
   "source": [
    "df"
   ]
  },
  {
   "cell_type": "markdown",
   "metadata": {},
   "source": [
    "### Understanding the data"
   ]
  },
  {
   "cell_type": "markdown",
   "metadata": {},
   "source": [
    "use visualizations to better understand the data and then look at any processing you might want to do."
   ]
  },
  {
   "cell_type": "code",
   "execution_count": 13,
   "metadata": {},
   "outputs": [
    {
     "data": {
      "text/plain": [
       "<matplotlib.colorbar.Colorbar at 0x263ede70808>"
      ]
     },
     "execution_count": 13,
     "metadata": {},
     "output_type": "execute_result"
    },
    {
     "data": {
      "image/png": "[encoded data removed]",
      "text/plain": [
       "<Figure size 1008x1008 with 2 Axes>"
      ]
     },
     "metadata": {
      "needs_background": "light"
     },
     "output_type": "display_data"
    }
   ],
   "source": [
    "rcParams['figure.figsize'] = 20, 14\n",
    "plt.matshow(df.corr())\n",
    "plt.yticks(np.arange(df.shape[1]), df.columns)\n",
    "plt.xticks(np.arange(df.shape[1]), df.columns)\n",
    "plt.colorbar()"
   ]
  },
  {
   "cell_type": "markdown",
   "metadata": {},
   "source": [
    "Next, we'll take a look at the histograms for each variable."
   ]
  },
  {
   "cell_type": "code",
   "execution_count": 14,
   "metadata": {},
   "outputs": [
    {
     "data": {
      "text/plain": [
       "array([[<matplotlib.axes._subplots.AxesSubplot object at 0x00000263EE680408>,\n",
       "        <matplotlib.axes._subplots.AxesSubplot object at 0x00000263EE6AB888>,\n",
       "        <matplotlib.axes._subplots.AxesSubplot object at 0x00000263EE6E6788>,\n",
       "        <matplotlib.axes._subplots.AxesSubplot object at 0x00000263EE71E8C8>],\n",
       "       [<matplotlib.axes._subplots.AxesSubplot object at 0x00000263EE7579C8>,\n",
       "        <matplotlib.axes._subplots.AxesSubplot object at 0x00000263EE78FA88>,\n",
       "        <matplotlib.axes._subplots.AxesSubplot object at 0x00000263EE7C9BC8>,\n",
       "        <matplotlib.axes._subplots.AxesSubplot object at 0x00000263EE800D08>],\n",
       "       [<matplotlib.axes._subplots.AxesSubplot object at 0x00000263EE80B908>,\n",
       "        <matplotlib.axes._subplots.AxesSubplot object at 0x00000263EE843AC8>,\n",
       "        <matplotlib.axes._subplots.AxesSubplot object at 0x00000263EE8A9F88>,\n",
       "        <matplotlib.axes._subplots.AxesSubplot object at 0x00000263EE8E50C8>],\n",
       "       [<matplotlib.axes._subplots.AxesSubplot object at 0x00000263EE91F1C8>,\n",
       "        <matplotlib.axes._subplots.AxesSubplot object at 0x00000263EE95A308>,\n",
       "        <matplotlib.axes._subplots.AxesSubplot object at 0x00000263EE992408>,\n",
       "        <matplotlib.axes._subplots.AxesSubplot object at 0x00000263EE9CB588>]],\n",
       "      dtype=object)"
      ]
     },
     "execution_count": 14,
     "metadata": {},
     "output_type": "execute_result"
    },
    {
     "data": {
      "image/png": "[encoded data removed]",
      "text/plain": [
       "<Figure size 1440x1008 with 16 Axes>"
      ]
     },
     "metadata": {
      "needs_background": "light"
     },
     "output_type": "display_data"
    }
   ],
   "source": [
    "df.hist()"
   ]
  },
  {
   "cell_type": "markdown",
   "metadata": {},
   "source": [
    "## Exploratory Data Analysis"
   ]
  },
  {
   "cell_type": "markdown",
   "metadata": {},
   "source": [
    "### Check for Missing Data"
   ]
  },
  {
   "cell_type": "markdown",
   "metadata": {},
   "source": [
    "import the seaborn library to check for any missing data by performing the exploratory data analysis."
   ]
  },
  {
   "cell_type": "code",
   "execution_count": 15,
   "metadata": {},
   "outputs": [
    {
     "data": {
      "text/plain": [
       "<matplotlib.axes._subplots.AxesSubplot at 0x263ef31ecc8>"
      ]
     },
     "execution_count": 15,
     "metadata": {},
     "output_type": "execute_result"
    },
    {
     "data": {
      "image/png": "[encoded data removed]",
      "text/plain": [
       "<Figure size 864x720 with 1 Axes>"
      ]
     },
     "metadata": {
      "needs_background": "light"
     },
     "output_type": "display_data"
    }
   ],
   "source": [
    "import seaborn as sns\n",
    "plt.figure(figsize=(12, 10))\n",
    "sns.heatmap(df.isnull(),yticklabels=False,cbar=False,cmap='plasma')   # creating heatmap for visual analysis"
   ]
  },
  {
   "cell_type": "markdown",
   "metadata": {},
   "source": [
    "In the heatmap created above, we can see that there are no missing values present."
   ]
  },
  {
   "cell_type": "code",
   "execution_count": 16,
   "metadata": {},
   "outputs": [
    {
     "data": {
      "text/plain": [
       "Text(0.5, 1.0, 'Count of each Absence (1) or presence (2) of heart disease Class')"
      ]
     },
     "execution_count": 16,
     "metadata": {},
     "output_type": "execute_result"
    },
    {
     "data": {
      "image/png": "[encoded data removed]",
      "text/plain": [
       "<Figure size 576x432 with 1 Axes>"
      ]
     },
     "metadata": {
      "needs_background": "light"
     },
     "output_type": "display_data"
    }
   ],
   "source": [
    "rcParams['figure.figsize'] = 8,6\n",
    "plt.bar(df['Absence (1) or presence (2) of heart disease'].unique(), df['Absence (1) or presence (2) of heart disease'].value_counts(), color = ['green', 'orange'])\n",
    "plt.xticks([1, 2])\n",
    "plt.xlabel('Absence (1) or presence (2) of heart disease Classes')\n",
    "plt.ylabel('Count')\n",
    "plt.title('Count of each Absence (1) or presence (2) of heart disease Class')"
   ]
  },
  {
   "cell_type": "markdown",
   "metadata": {},
   "source": [
    "By counting the two classes of Absence (1) or presence (2) of heart disease are not exactly 50% each but the ratio is good enough to continue without dropping/increasing our data."
   ]
  },
  {
   "cell_type": "markdown",
   "metadata": {},
   "source": [
    "## Handle Categorical Values"
   ]
  },
  {
   "cell_type": "markdown",
   "metadata": {},
   "source": [
    "### Data Processing"
   ]
  },
  {
   "cell_type": "code",
   "execution_count": 17,
   "metadata": {},
   "outputs": [],
   "source": [
    "df = pd.get_dummies(df, columns = ['sex', 'chest pain', 'sugar', 'elcardgraph', 'angina', 'slope', 'flourosopy', 'thal'])"
   ]
  },
  {
   "cell_type": "markdown",
   "metadata": {},
   "source": [
    "use the StandardScaler from sklearn to scale the dataset."
   ]
  },
  {
   "cell_type": "code",
   "execution_count": 18,
   "metadata": {},
   "outputs": [],
   "source": [
    "standardScaler = StandardScaler()\n",
    "columns_to_scale = ['age', 'rest bp', 'serum chol','oldpeak']\n",
    "df[columns_to_scale] = standardScaler.fit_transform(df[columns_to_scale])"
   ]
  },
  {
   "cell_type": "markdown",
   "metadata": {},
   "source": [
    "The data is ready for the Machine Learning application."
   ]
  },
  {
   "cell_type": "markdown",
   "metadata": {},
   "source": [
    "## Split Data for Training and Testing"
   ]
  },
  {
   "cell_type": "markdown",
   "metadata": {},
   "source": [
    "import the train_test_split to split the dataset into training and testing datasets. Then, import all ML models to train and test the data"
   ]
  },
  {
   "cell_type": "code",
   "execution_count": 19,
   "metadata": {},
   "outputs": [],
   "source": [
    "y = df['Absence (1) or presence (2) of heart disease']\n",
    "X = df.drop(['Absence (1) or presence (2) of heart disease'], axis = 1)\n",
    "X_train, X_test, y_train, y_test = train_test_split(X, y, test_size = 0.33, random_state = 0)"
   ]
  },
  {
   "cell_type": "markdown",
   "metadata": {},
   "source": [
    "#### K Neighbors Classifier"
   ]
  },
  {
   "cell_type": "markdown",
   "metadata": {},
   "source": [
    "The classification score varies based on the different values of neighbors that we choose. Thus, plot a score graph for different values of K (neighbors) and then check when to achieve the best score."
   ]
  },
  {
   "cell_type": "code",
   "execution_count": 20,
   "metadata": {},
   "outputs": [],
   "source": [
    "knn_scores = []\n",
    "for k in range(1,21):\n",
    "    knn_classifier = KNeighborsClassifier(n_neighbors = k)\n",
    "    knn_classifier.fit(X_train, y_train)\n",
    "    knn_scores.append(knn_classifier.score(X_test, y_test))"
   ]
  },
  {
   "cell_type": "markdown",
   "metadata": {},
   "source": [
    "We have the scores for different neighbor values in the array knn_scores. We'll now plot it and see for which value of K did we get the best scores"
   ]
  },
  {
   "cell_type": "code",
   "execution_count": 21,
   "metadata": {},
   "outputs": [
    {
     "data": {
      "text/plain": [
       "Text(0.5, 1.0, 'K Neighbors Classifier scores for different K values')"
      ]
     },
     "execution_count": 21,
     "metadata": {},
     "output_type": "execute_result"
    },
    {
     "data": {
      "image/png": "[encoded data removed]",
      "text/plain": [
       "<Figure size 576x432 with 1 Axes>"
      ]
     },
     "metadata": {
      "needs_background": "light"
     },
     "output_type": "display_data"
    }
   ],
   "source": [
    "plt.plot([k for k in range(1, 21)], knn_scores, color = 'green')\n",
    "for i in range(1,21):\n",
    "    plt.text(i, knn_scores[i-1], (i, knn_scores[i-1]))\n",
    "plt.xticks([i for i in range(1, 21)])\n",
    "plt.xlabel('Number of Neighbors (K)')\n",
    "plt.ylabel('Scores')\n",
    "plt.title('K Neighbors Classifier scores for different K values')"
   ]
  },
  {
   "cell_type": "code",
   "execution_count": 22,
   "metadata": {},
   "outputs": [
    {
     "name": "stdout",
     "output_type": "stream",
     "text": [
      "The score for K Neighbors Classifier is 71.91011235955057% with 8 nieghbors.\n"
     ]
    }
   ],
   "source": [
    "print(\"The score for K Neighbors Classifier is {}% with {} nieghbors.\".format(knn_scores[7]*100, 8))"
   ]
  },
  {
   "cell_type": "markdown",
   "metadata": {},
   "source": [
    "## Apply different Classification Algorithms and tune them"
   ]
  },
  {
   "cell_type": "markdown",
   "metadata": {},
   "source": [
    "#### Support Vector Classifier"
   ]
  },
  {
   "cell_type": "code",
   "execution_count": 23,
   "metadata": {},
   "outputs": [],
   "source": [
    "svc_scores = []\n",
    "kernels = ['linear', 'poly', 'rbf', 'sigmoid']\n",
    "for i in range(len(kernels)):\n",
    "    svc_classifier = SVC(kernel = kernels[i])\n",
    "    svc_classifier.fit(X_train, y_train)\n",
    "    svc_scores.append(svc_classifier.score(X_test, y_test))"
   ]
  },
  {
   "cell_type": "code",
   "execution_count": 24,
   "metadata": {},
   "outputs": [
    {
     "data": {
      "text/plain": [
       "Text(0.5, 1.0, 'Support Vector Classifier scores for different kernels')"
      ]
     },
     "execution_count": 24,
     "metadata": {},
     "output_type": "execute_result"
    },
    {
     "data": {
      "image/png": "[encoded data removed]",
      "text/plain": [
       "<Figure size 576x432 with 1 Axes>"
      ]
     },
     "metadata": {
      "needs_background": "light"
     },
     "output_type": "display_data"
    }
   ],
   "source": [
    "colors = rainbow(np.linspace(0, 1, len(kernels)))\n",
    "plt.bar(kernels, svc_scores, color = colors)\n",
    "for i in range(len(kernels)):\n",
    "    plt.text(i, svc_scores[i], svc_scores[i])\n",
    "plt.xlabel('Kernels')\n",
    "plt.ylabel('Scores')\n",
    "plt.title('Support Vector Classifier scores for different kernels')"
   ]
  },
  {
   "cell_type": "code",
   "execution_count": 25,
   "metadata": {},
   "outputs": [
    {
     "name": "stdout",
     "output_type": "stream",
     "text": [
      "The score for Support Vector Classifier is 80.89887640449437% with linear kernel.\n"
     ]
    }
   ],
   "source": [
    "print(\"The score for Support Vector Classifier is {}% with {} kernel.\".format(svc_scores[0]*100, 'linear'))"
   ]
  },
  {
   "cell_type": "markdown",
   "metadata": {},
   "source": [
    "#### Decision Tree Classifier"
   ]
  },
  {
   "cell_type": "markdown",
   "metadata": {},
   "source": [
    "Here, We'll use the Decision Tree Classifier to model the problem. We'll vary between a set of max_features and see which returns the best accuracy."
   ]
  },
  {
   "cell_type": "code",
   "execution_count": 48,
   "metadata": {},
   "outputs": [],
   "source": [
    "dt_scores = []\n",
    "for i in range(1, len(X.columns) + 1):\n",
    "    dt_classifier = DecisionTreeClassifier(max_features = i, random_state = 0)\n",
    "    dt_classifier.fit(X_train, y_train)\n",
    "    dt_scores.append(dt_classifier.score(X_test, y_test))"
   ]
  },
  {
   "cell_type": "markdown",
   "metadata": {},
   "source": [
    "We selected the maximum number of features from 1 to 30 for split. Now, let's see the scores for each of those cases."
   ]
  },
  {
   "cell_type": "code",
   "execution_count": 49,
   "metadata": {},
   "outputs": [
    {
     "data": {
      "text/plain": [
       "Text(0.5, 1.0, 'Decision Tree Classifier scores for different number of maximum features')"
      ]
     },
     "execution_count": 49,
     "metadata": {},
     "output_type": "execute_result"
    },
    {
     "data": {
      "image/png": "[encoded data removed]",
      "text/plain": [
       "<Figure size 576x432 with 1 Axes>"
      ]
     },
     "metadata": {
      "needs_background": "light"
     },
     "output_type": "display_data"
    }
   ],
   "source": [
    "plt.plot([i for i in range(1, len(X.columns) + 1)], dt_scores, color = 'purple')\n",
    "for i in range(1, len(X.columns) + 1):\n",
    "    plt.text(i, dt_scores[i-1], (i, dt_scores[i-1]))\n",
    "plt.xticks([i for i in range(1, len(X.columns) + 1)])\n",
    "plt.xlabel('Max features')\n",
    "plt.ylabel('Scores')\n",
    "plt.title('Decision Tree Classifier scores for different number of maximum features')"
   ]
  },
  {
   "cell_type": "code",
   "execution_count": 28,
   "metadata": {},
   "outputs": [
    {
     "name": "stdout",
     "output_type": "stream",
     "text": [
      "The score for Decision Tree Classifier is 69.66292134831461% with [2, 4, 18] maximum features.\n"
     ]
    }
   ],
   "source": [
    "print(\"The score for Decision Tree Classifier is {}% with {} maximum features.\".format(dt_scores[17]*100, [2,4,18]))"
   ]
  },
  {
   "cell_type": "markdown",
   "metadata": {},
   "source": [
    "### Logistic Regression"
   ]
  },
  {
   "cell_type": "code",
   "execution_count": 37,
   "metadata": {},
   "outputs": [],
   "source": [
    "from sklearn.linear_model import LogisticRegression"
   ]
  },
  {
   "cell_type": "code",
   "execution_count": 38,
   "metadata": {},
   "outputs": [],
   "source": [
    "y = df['Absence (1) or presence (2) of heart disease']\n",
    "X = df.drop(['Absence (1) or presence (2) of heart disease'], axis = 1)\n",
    "X_train, X_test, y_train, y_test = train_test_split(X, y, test_size = 0.33, random_state = 0)"
   ]
  },
  {
   "cell_type": "code",
   "execution_count": 39,
   "metadata": {},
   "outputs": [
    {
     "data": {
      "text/plain": [
       "LogisticRegression(C=1.0, class_weight=None, dual=False, fit_intercept=True,\n",
       "                   intercept_scaling=1, l1_ratio=None, max_iter=800,\n",
       "                   multi_class='auto', n_jobs=None, penalty='l2',\n",
       "                   random_state=None, solver='lbfgs', tol=0.0001, verbose=0,\n",
       "                   warm_start=False)"
      ]
     },
     "execution_count": 39,
     "metadata": {},
     "output_type": "execute_result"
    }
   ],
   "source": [
    "logmodel = LogisticRegression(max_iter=800)\n",
    "#logmodel = LogisticRegression()\n",
    "logmodel.fit(X_train,y_train)"
   ]
  },
  {
   "cell_type": "markdown",
   "metadata": {},
   "source": [
    "### Predictions"
   ]
  },
  {
   "cell_type": "code",
   "execution_count": 40,
   "metadata": {},
   "outputs": [],
   "source": [
    "predictions = logmodel.predict(X_test)"
   ]
  },
  {
   "cell_type": "markdown",
   "metadata": {},
   "source": [
    "### Evaluation and performance metrics"
   ]
  },
  {
   "cell_type": "code",
   "execution_count": 41,
   "metadata": {},
   "outputs": [],
   "source": [
    "from sklearn.metrics import classification_report, confusion_matrix"
   ]
  },
  {
   "cell_type": "code",
   "execution_count": 42,
   "metadata": {},
   "outputs": [
    {
     "data": {
      "text/plain": [
       "array([[43,  5],\n",
       "       [10, 31]], dtype=int64)"
      ]
     },
     "execution_count": 42,
     "metadata": {},
     "output_type": "execute_result"
    }
   ],
   "source": [
    "cnf_matrix=confusion_matrix(y_test,predictions)\n",
    "cnf_matrix"
   ]
  },
  {
   "cell_type": "code",
   "execution_count": 43,
   "metadata": {},
   "outputs": [
    {
     "data": {
      "text/plain": [
       "<matplotlib.axes._subplots.AxesSubplot at 0x263f0e3dcc8>"
      ]
     },
     "execution_count": 43,
     "metadata": {},
     "output_type": "execute_result"
    },
    {
     "data": {
      "image/png": "[encoded data removed]",
      "text/plain": [
       "<Figure size 576x432 with 1 Axes>"
      ]
     },
     "metadata": {
      "needs_background": "light"
     },
     "output_type": "display_data"
    }
   ],
   "source": [
    "# creating heatmap for confusion matrix\n",
    "sns.heatmap(cnf_matrix, annot=True, fmt='g', cbar=False)"
   ]
  },
  {
   "cell_type": "code",
   "execution_count": 44,
   "metadata": {},
   "outputs": [
    {
     "name": "stdout",
     "output_type": "stream",
     "text": [
      "              precision    recall  f1-score   support\n",
      "\n",
      "           1       0.81      0.90      0.85        48\n",
      "           2       0.86      0.76      0.81        41\n",
      "\n",
      "    accuracy                           0.83        89\n",
      "   macro avg       0.84      0.83      0.83        89\n",
      "weighted avg       0.83      0.83      0.83        89\n",
      "\n"
     ]
    }
   ],
   "source": [
    "# printing classification report\n",
    "print(classification_report(y_test,predictions))"
   ]
  },
  {
   "cell_type": "code",
   "execution_count": 45,
   "metadata": {},
   "outputs": [
    {
     "name": "stdout",
     "output_type": "stream",
     "text": [
      "age                1.393544\n",
      "rest bp            1.156154\n",
      "serum chol         0.536141\n",
      "heartrate        172.000000\n",
      "oldpeak           -0.914855\n",
      "sex_0              1.000000\n",
      "sex_1              0.000000\n",
      "chest pain_1       0.000000\n",
      "chest pain_2       0.000000\n",
      "chest pain_3       1.000000\n",
      "chest pain_4       0.000000\n",
      "sugar_0            1.000000\n",
      "sugar_1            0.000000\n",
      "elcardgraph_0      1.000000\n",
      "elcardgraph_1      0.000000\n",
      "elcardgraph_2      0.000000\n",
      "angina_0           1.000000\n",
      "angina_1           0.000000\n",
      "slope_1            1.000000\n",
      "slope_2            0.000000\n",
      "slope_3            0.000000\n",
      "flourosopy_0       0.000000\n",
      "flourosopy_1       1.000000\n",
      "flourosopy_2       0.000000\n",
      "flourosopy_3       0.000000\n",
      "thal_3             1.000000\n",
      "thal_6             0.000000\n",
      "thal_7             0.000000\n",
      "Name: 135, dtype: float64\n",
      "\n",
      "Actual: (1)Absence or (2)Presence of Heart disease:  1\n"
     ]
    }
   ],
   "source": [
    "index_num=10   \n",
    "print(X_test.iloc[index_num])\n",
    "print(\"\\nActual: (1)Absence or (2)Presence of Heart disease: \",y_test.iloc[index_num])"
   ]
  },
  {
   "cell_type": "code",
   "execution_count": 46,
   "metadata": {},
   "outputs": [
    {
     "name": "stdout",
     "output_type": "stream",
     "text": [
      "Prediction Result: [1]\n"
     ]
    }
   ],
   "source": [
    "test_sample=X_test.iloc[index_num].to_numpy().reshape(1,-1)\n",
    "predicted_result = logmodel.predict(test_sample)\n",
    "print(\"Prediction Result:\",predicted_result)  "
   ]
  },
  {
   "cell_type": "markdown",
   "metadata": {},
   "source": [
    "We have seen that the prediction result and the actual result are same. And from the metric calculation we can say that the logistic regression is 83% accurate."
   ]
  },
  {
   "cell_type": "markdown",
   "metadata": {},
   "source": [
    "### Visually compare the performance of all classifiers"
   ]
  },
  {
   "cell_type": "markdown",
   "metadata": {},
   "source": [
    "We have applied the four ML algorithms:K Neighbors Classifier, Support Vector Classifier, Decision Tree Classifier and Logical Regression to compare the performance of all classifiers.Among the four machine learning algorithms Logical Regression achieved the highest score of 83%. Along with that, the score for Support Vector Classifier is 80.89887640449437% is also the best supporting algorithm. "
   ]
  },
  {
   "cell_type": "markdown",
   "metadata": {},
   "source": [
    "### Conclusion for this project"
   ]
  },
  {
   "cell_type": "markdown",
   "metadata": {},
   "source": [
    "In this project, We have used the Machine Learning to predict whether a person is suffering from a heart disease or not. After importing the data, We analysed it using the plots. Then, We have generated the dummy variables for categorical features and scaled other features. We then applied four Machine Learning algorithms, K Neighbors Classifier, Support Vector Classifier, Decision Tree Classifier and Logical Regression. We can regulate the input training data to improve the algorithms.Here, Logical regression achieved 83% of accuracy."
   ]
  }
 ],
 "metadata": {
  "kernelspec": {
   "display_name": "Python 3",
   "language": "python",
   "name": "python3"
  },
  "language_info": {
   "codemirror_mode": {
    "name": "ipython",
    "version": 3
   },
   "file_extension": ".py",
   "mimetype": "text/x-python",
   "name": "python",
   "nbconvert_exporter": "python",
   "pygments_lexer": "ipython3",
   "version": "3.7.6"
  }
 },
 "nbformat": 4,
 "nbformat_minor": 5
}
